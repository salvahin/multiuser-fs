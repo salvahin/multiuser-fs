{
 "cells": [
  {
   "cell_type": "code",
   "execution_count": null,
   "id": "85e6415b",
   "metadata": {},
   "outputs": [],
   "source": [
    "df_users = pd.read_csv(r\"/Users/itzeltgc/Documents/DataScienceGirlypop/multiuser-fs/datos/df_matrix_features_counts.csv\")"
   ]
  }
 ],
 "metadata": {
  "kernelspec": {
   "display_name": "env_multfs",
   "language": "python",
   "name": "python3"
  },
  "language_info": {
   "name": "python",
   "version": "3.9.6"
  }
 },
 "nbformat": 4,
 "nbformat_minor": 5
}
